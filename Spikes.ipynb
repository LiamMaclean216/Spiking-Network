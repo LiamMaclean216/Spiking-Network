{
 "cells": [
  {
   "cell_type": "code",
   "execution_count": 1,
   "metadata": {
    "scrolled": true
   },
   "outputs": [
    {
     "name": "stdout",
     "output_type": "stream",
     "text": [
      "[I 18:26:08 flexx.app] Asset store collected 2 new modules.\n"
     ]
    }
   ],
   "source": [
    "import torch\n",
    "import torch.nn as nn\n",
    "import torch.nn.functional as F\n",
    "from torch.nn.parameter import Parameter\n",
    "import numpy as np\n",
    "import random\n",
    "import time\n",
    "from utils import *\n",
    "from network import *\n",
    "import math\n",
    "\n",
    "from threading import Thread\n",
    "from Visualiser import NetworkVisualiser\n",
    "from flexx import flx\n"
   ]
  },
  {
   "cell_type": "code",
   "execution_count": null,
   "metadata": {
    "code_folding": []
   },
   "outputs": [],
   "source": [
    "run_visualiser = False\n",
    "if run_visualiser:\n",
    "    a = flx.App(NetworkVisualiser)\n",
    "    root = a.launch('browser')\n",
    "\n",
    "model = Net()\n",
    "\n",
    "epochs = 2000\n",
    "\n",
    "x_fire = np.array(random.sample(range(1,epochs//6), (epochs//6) // 2))*6\n",
    "\n",
    "#x_fire = np.array(list(range(0,epochs,6)))\n",
    "y_fire = (x_fire + 4)\n",
    "#z_fire = (y_fire + 2)\n",
    "\n",
    "signals = 0\n",
    "for e in range(epochs):\n",
    "    in_stream = [e in x_fire, e in y_fire]\n",
    "    \n",
    "    \n",
    "    #Visualiser\n",
    "    \n",
    "    flx.loop.call_soon(root.update_inputs, in_stream)\n",
    "    \n",
    "    \n",
    "    neurons = []\n",
    "    for n in model.neurons:\n",
    "        neurons.append((n.spiking, n.name))\n",
    "    \n",
    "    flx.loop.call_soon(root.update_neurons, neurons)\n",
    "    flx.loop.iter()\n",
    "    if 1 in in_stream:\n",
    "        print(\"#####In signal : {}, \".format(in_stream))\n",
    "        signals += 1\n",
    "\n",
    "    print(\"Step : {}, Signals : {}\".format(e, signals))\n",
    "\n",
    "    time.sleep(0.15)\n",
    "    s = model(torch.tensor(in_stream, dtype=torch.float))\n",
    "\n"
   ]
  },
  {
   "cell_type": "code",
   "execution_count": null,
   "metadata": {},
   "outputs": [],
   "source": []
  }
 ],
 "metadata": {
  "kernelspec": {
   "display_name": "Python 3",
   "language": "python",
   "name": "python3"
  },
  "language_info": {
   "codemirror_mode": {
    "name": "ipython",
    "version": 3
   },
   "file_extension": ".py",
   "mimetype": "text/x-python",
   "name": "python",
   "nbconvert_exporter": "python",
   "pygments_lexer": "ipython3",
   "version": "3.7.4"
  },
  "widgets": {
   "application/vnd.jupyter.widget-state+json": {
    "state": {},
    "version_major": 2,
    "version_minor": 0
   }
  }
 },
 "nbformat": 4,
 "nbformat_minor": 2
}
